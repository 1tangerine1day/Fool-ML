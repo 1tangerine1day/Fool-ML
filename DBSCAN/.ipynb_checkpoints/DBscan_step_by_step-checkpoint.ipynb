{
 "cells": [
  {
   "cell_type": "code",
   "execution_count": 3,
   "metadata": {},
   "outputs": [],
   "source": [
    "import numpy as np\n",
    "import matplotlib.pyplot as plt"
   ]
  },
  {
   "cell_type": "code",
   "execution_count": 4,
   "metadata": {},
   "outputs": [
    {
     "data": {
      "image/png": "[encoded data removed]",
      "text/plain": [
       "<Figure size 432x288 with 1 Axes>"
      ]
     },
     "metadata": {
      "needs_background": "light"
     },
     "output_type": "display_data"
    }
   ],
   "source": [
    "f1= np.array([1, 5, 1.5, 8, 1, 9, 7, 8.7, 2.3, 5.5, 7.7, 6.1])\n",
    "f2 = np.array([2, 8, 1.8, 8, 0.6, 11, 10, 9.4, 4, 3, 8.8, 7.5])\n",
    "\n",
    "plt.scatter(f1, f2)\n",
    "plt.show()"
   ]
  },
  {
   "cell_type": "code",
   "execution_count": 19,
   "metadata": {},
   "outputs": [],
   "source": [
    "class DBSCAN():\n",
    "    def __init__(self, data, radius=5, minPts=5):\n",
    "        self.radius = radius\n",
    "        self.minPts = minPts\n",
    "        self.data = data\n",
    "        self.cluster_nums, self.cluster_count = self.__do_dbscan(np.transpose(self.data))\n",
    " \n",
    "        \n",
    "    def __do_dbscan(self, data):\n",
    "        clusterId = 1\n",
    "        nPoints = len(data)\n",
    "        clusterRes = [-1] * nPoints\n",
    "        for pointId in range(nPoints):\n",
    "            if clusterRes[pointId] == -1:\n",
    "                if self.__to_cluster(data, clusterRes, pointId, clusterId):\n",
    "                    clusterId = clusterId + 1\n",
    "                    \n",
    "        return np.asarray(clusterRes), clusterId\n",
    "    \n",
    "    def __dist(self, a, b):\n",
    "        return np.sqrt((np.power(a-b, 2).sum()))\n",
    "\n",
    "    def __neighbor_points(self, data, pointId):\n",
    "        points = []\n",
    "        for i in range(len(data)):\n",
    "            if self.__dist(data[i], data[pointId]) < self.radius:\n",
    "                points.append(i)\n",
    "        return np.asarray(points)\n",
    "\n",
    "    def __to_cluster(self, data, clusterRes, pointId, clusterId):\n",
    "        \n",
    "        points = self.__neighbor_points(data, pointId)\n",
    "        points = points.tolist()\n",
    "\n",
    "        queue = []\n",
    "\n",
    "        if len(points) < self.minPts:\n",
    "            clusterRes[pointId] = 0\n",
    "            return False\n",
    "        else:\n",
    "            clusterRes[pointId] = clusterId\n",
    "        for point in points:\n",
    "            if clusterRes[point] == -1:\n",
    "                queue.append(point)\n",
    "                clusterRes[point] = clusterId\n",
    "\n",
    "        while queue != []:\n",
    "            neighborRes = self.__neighbor_points(data, queue.pop(0))\n",
    "            #core\n",
    "            if len(neighborRes) >= self.minPts:        \n",
    "                for i in range(len(neighborRes)):\n",
    "                    resultPoint = neighborRes[i]\n",
    "                    if clusterRes[resultPoint] == -1:\n",
    "                        queue.append(resultPoint)\n",
    "                        clusterRes[resultPoint] = clusterId\n",
    "                    elif clusterRes[clusterId] == 0:\n",
    "                        clusterRes[resultPoint] = clusterId\n",
    "        return True\n",
    "    \n",
    "    def show_graph(self):\n",
    "        if len(self.data) == 2:\n",
    "            plt.scatter(self.data[0], self.data[1])\n",
    "            for i, txt in enumerate(self.cluster_nums):\n",
    "                plt.annotate(txt, (self.data[0][i], self.data[1][i]))\n",
    "            plt.show()\n",
    "        else:\n",
    "            print(\"only support for two dim\")\n",
    "            \n",
    "    def show(self):\n",
    "        c = self.cluster_nums\n",
    "        for i,j in zip(self.data.T, c) :\n",
    "            print(\"Sample:\", i, \"Cluster ID:\", j)"
   ]
  },
  {
   "cell_type": "code",
   "execution_count": 20,
   "metadata": {},
   "outputs": [
    {
     "name": "stdout",
     "output_type": "stream",
     "text": [
      "[[ 1.   5.   1.5  8.   1.   9.   7.   8.7  2.3  5.5  7.7  6.1]\n",
      " [ 2.   8.   1.8  8.   0.6 11.  10.   9.4  4.   3.   8.8  7.5]]\n"
     ]
    },
    {
     "data": {
      "image/png": "[encoded data removed]",
      "text/plain": [
       "<Figure size 432x288 with 1 Axes>"
      ]
     },
     "metadata": {
      "needs_background": "light"
     },
     "output_type": "display_data"
    }
   ],
   "source": [
    "data = np.array([f1, f2])\n",
    "print(data)\n",
    "dbscan = DBSCAN(data, 3, 1)\n",
    "dbscan.show_graph()"
   ]
  },
  {
   "cell_type": "code",
   "execution_count": 27,
   "metadata": {},
   "outputs": [
    {
     "name": "stdout",
     "output_type": "stream",
     "text": [
      "It has 6 cluster(s)\n",
      "Sample: [22.93015635  7.82619701  4.62407773] Cluster ID 1\n",
      "Sample: [41.8956658  91.36418864 19.83055023] Cluster ID 2\n",
      "Sample: [97.03254444 63.48855169 23.68614179] Cluster ID 3\n",
      "Sample: [19.86966834 60.23624661 87.03766231] Cluster ID 4\n",
      "Sample: [78.44046287 49.70500624 52.5996821 ] Cluster ID 3\n",
      "Sample: [81.96498511 81.32456948 77.88320779] Cluster ID 3\n",
      "Sample: [83.85706315 35.23914734 15.85233547] Cluster ID 3\n",
      "Sample: [96.31910153 55.87853411 89.9429229 ] Cluster ID 3\n",
      "Sample: [71.70723944 32.98917153 70.60028239] Cluster ID 3\n",
      "Sample: [20.24122881 20.31309653 56.03305737] Cluster ID 5\n"
     ]
    }
   ],
   "source": [
    "data = np.random.rand(3,10)*100\n",
    "dbscan = DBSCAN(data, 50, 1)\n",
    "print(\"It has \" +str(dbscan.cluster_count)+ \" cluster(s)\")\n",
    "dbscan.show()"
   ]
  },
  {
   "cell_type": "code",
   "execution_count": null,
   "metadata": {},
   "outputs": [],
   "source": []
  }
 ],
 "metadata": {
  "kernelspec": {
   "display_name": "Python 3",
   "language": "python",
   "name": "python3"
  },
  "language_info": {
   "codemirror_mode": {
    "name": "ipython",
    "version": 3
   },
   "file_extension": ".py",
   "mimetype": "text/x-python",
   "name": "python",
   "nbconvert_exporter": "python",
   "pygments_lexer": "ipython3",
   "version": "3.7.6"
  }
 },
 "nbformat": 4,
 "nbformat_minor": 4
}
