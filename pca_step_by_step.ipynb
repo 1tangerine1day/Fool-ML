{
 "cells": [
  {
   "cell_type": "code",
   "execution_count": 1,
   "metadata": {},
   "outputs": [],
   "source": [
    "import matplotlib.pyplot as plt\n",
    "import numpy as np"
   ]
  },
  {
   "cell_type": "markdown",
   "metadata": {},
   "source": [
    "# PCA by best fit line\n",
    "\n",
    "|      | sample1  | sample2  |  sample3  | sample4  | sample5  | sample6  |\n",
    "|---   |--- |---|---|---|---|---|\n",
    "|feature 1 |10|11|8|3|2|1|\n",
    "|feature 2 |6|4|5|3|2.8|1|"
   ]
  },
  {
   "cell_type": "code",
   "execution_count": 2,
   "metadata": {},
   "outputs": [
    {
     "data": {
      "image/png": "[encoded data removed]",
      "text/plain": [
       "<Figure size 432x288 with 1 Axes>"
      ]
     },
     "metadata": {
      "needs_background": "light"
     },
     "output_type": "display_data"
    }
   ],
   "source": [
    "feature1 = [10, 11, 8, 3, 2, 1]\n",
    "feature2 = [6, 4, 5, 3, 2.8, 1]\n",
    "plt.scatter(feature1, feature2)\n",
    "plt.show()"
   ]
  },
  {
   "cell_type": "markdown",
   "metadata": {},
   "source": [
    "let's shift the (0,0) to the center of data."
   ]
  },
  {
   "cell_type": "code",
   "execution_count": 3,
   "metadata": {},
   "outputs": [
    {
     "data": {
      "image/png": "[encoded data removed]",
      "text/plain": [
       "<Figure size 432x288 with 1 Axes>"
      ]
     },
     "metadata": {
      "needs_background": "light"
     },
     "output_type": "display_data"
    }
   ],
   "source": [
    "av_1 = sum(feature1) / len(feature1)\n",
    "av_2 = sum(feature2) / len(feature2)\n",
    "\n",
    "feature1 = [x - av_1 for x in feature1]\n",
    "feature2 = [x - av_2 for x in feature2]\n",
    "\n",
    "plt.scatter(feature1, feature2)\n",
    "plt.axhline(color='black', lw=0.5)\n",
    "plt.axvline(color='black', lw=0.5)\n",
    "plt.show()"
   ]
  },
  {
   "cell_type": "markdown",
   "metadata": {},
   "source": [
    "## find the best fit line \n",
    "\n",
    "Assume best fit line is y = b + a * x\n",
    "\n",
    "find minmum of sum((yi - b - a * xi) ^ 2 ) for each (xi,yi) \n",
    "\n",
    "by the Partial Derivative on a & b\n",
    "\n",
    "a = ( sum(xi * yi) - n * xbar * ybar ) / sum(xi^2) - n * xbar^2 <br>\n",
    "b = ybar - a * xbar\n",
    "\n",
    "where:\n",
    "\n",
    "xbar = averge(x) <br>\n",
    "ybar = averge(y)"
   ]
  },
  {
   "cell_type": "code",
   "execution_count": 4,
   "metadata": {},
   "outputs": [
    {
     "name": "stdout",
     "output_type": "stream",
     "text": [
      "best fit line:\n",
      "y = 0.34x + -0.00\n"
     ]
    }
   ],
   "source": [
    "def best_fit(X, Y):\n",
    "\n",
    "    xbar = sum(X)/len(X)\n",
    "    ybar = sum(Y)/len(Y)\n",
    "    n = len(X) # or len(Y)\n",
    "\n",
    "    numer = sum([xi*yi for xi,yi in zip(X, Y)]) - n * xbar * ybar\n",
    "    denum = sum([xi**2 for xi in X]) - n * xbar**2\n",
    "\n",
    "    a = numer / denum\n",
    "    b = ybar - a * xbar\n",
    "\n",
    "    print('best fit line:\\ny = {:.2f}x + {:.2f}'.format(a, b))\n",
    "\n",
    "    return a, b\n",
    "\n",
    "a, b = best_fit(feature1, feature2)"
   ]
  },
  {
   "cell_type": "code",
   "execution_count": 5,
   "metadata": {},
   "outputs": [
    {
     "data": {
      "image/png": "[encoded data removed]",
      "text/plain": [
       "<Figure size 432x288 with 1 Axes>"
      ]
     },
     "metadata": {
      "needs_background": "light"
     },
     "output_type": "display_data"
    }
   ],
   "source": [
    "plt.scatter(feature1, feature2)\n",
    "plt.axhline(color='black', lw=0.5)\n",
    "plt.axvline(color='black', lw=0.5)\n",
    "\n",
    "PC1 = [a * xi + b for xi in feature1]\n",
    "plt.plot(feature1, PC1)\n",
    "plt.show()"
   ]
  },
  {
   "cell_type": "markdown",
   "metadata": {},
   "source": [
    "Slope = 0.34, By Pythagorean theorem"
   ]
  },
  {
   "cell_type": "code",
   "execution_count": 6,
   "metadata": {},
   "outputs": [
    {
     "name": "stdout",
     "output_type": "stream",
     "text": [
      "52.81098370604357\n",
      "1.0 0.9467727448197127 0.32190273323870233\n"
     ]
    }
   ],
   "source": [
    "x = (50**2 + 17**2)**0.5\n",
    "print(x)\n",
    "print(x/x, 50/x, 17/x)"
   ]
  },
  {
   "cell_type": "markdown",
   "metadata": {},
   "source": [
    "## Image that: \n",
    "PC1 = 0.94 * feature1 + 0.32 * feature2 \n",
    "\n",
    "it can say that PC1 is linear combination of feature1, feature2\n",
    "\n",
    "[0.94, 0.32] is eigenvector (or singular vector) of PC1 (see p.s.)\n",
    "\n",
    "sum of square distance (on PC1): d\n",
    "\n",
    "d is eigen value for PC1\n",
    "\n",
    "d^0.5 is singular value for PC1\n",
    "\n",
    "---\n",
    "p.s.\n",
    "\n",
    "defination of eigen vector: <br>\n",
    "AV = λV <br>\n",
    "-> T is linear opearator, if T(V) = λV <br>\n",
    "-> V is eigenvector of T\n",
    "\n",
    "We can regard PC1 as a function that project any vector to line y = 0.34x (projection is a linear opearator)\n",
    "\n",
    "and then we can find that PC1( [0.94, 0.32]^t ) = λ [0.94, 0.32]^t \n",
    "\n",
    "[0.94, 0.32]^t is eigenvector of PC1\n",
    "\n"
   ]
  },
  {
   "cell_type": "code",
   "execution_count": 7,
   "metadata": {},
   "outputs": [],
   "source": [
    "# P' is the projection point of P(x, y) on ax + by + c = 0\n",
    "# P'= (x-at, y-2bt) where t = (ax + by + c) / a**2 + b **2  \n",
    "\n",
    "def sum_of_square_distance(a, b, c, X, Y):\n",
    "    sum = 0\n",
    "    for i, j in zip(X,Y):\n",
    "        x_proj = i - a*(a*i + b*j + c) / ((a**2) + (b**2))\n",
    "        y_proj = j - b*(a*i + b*j + c) / ((a**2) + (b**2))\n",
    "        # sum += (x_proj**2 + y_proj**2)**0.5\n",
    "        sum += x_proj**2 + y_proj**2\n",
    "        \n",
    "    return sum"
   ]
  },
  {
   "cell_type": "code",
   "execution_count": 8,
   "metadata": {},
   "outputs": [
    {
     "name": "stdout",
     "output_type": "stream",
     "text": [
      "eigen value for PC1: 106.40117345669768\n",
      "singular value for PC1: 10.315094447298952\n"
     ]
    }
   ],
   "source": [
    "e1 = sum_of_square_distance(-a, 1, b, feature1, feature2)\n",
    "print(\"eigen value for PC1:\", e1)\n",
    "print(\"singular value for PC1:\", e1** 0.5)"
   ]
  },
  {
   "cell_type": "markdown",
   "metadata": {},
   "source": [
    "# Let's find more eigenvector \n",
    "\n",
    "because it's 2 dim, we can easily fin another eigenvector PC2\n",
    "\n",
    "PC2 = -0.28 * feature1 + 0.95 * feature2 \n",
    "\n",
    "[-0.28, 0.95] is eigenvector of PC2"
   ]
  },
  {
   "cell_type": "code",
   "execution_count": 9,
   "metadata": {},
   "outputs": [
    {
     "data": {
      "image/png": "[encoded data removed]",
      "text/plain": [
       "<Figure size 432x288 with 1 Axes>"
      ]
     },
     "metadata": {
      "needs_background": "light"
     },
     "output_type": "display_data"
    }
   ],
   "source": [
    "plt.scatter(feature1, feature2)\n",
    "plt.axhline(color='black', lw=0.5)\n",
    "plt.axvline(color='black', lw=0.5)\n",
    "\n",
    "PC1 = [b + a * xi for xi in feature1]\n",
    "PC2 = [b + (-1/a) * xi for xi in feature1]\n",
    "\n",
    "plt.plot(feature1, PC1)\n",
    "plt.plot(feature1, PC2)\n",
    "\n",
    "max_value = max(feature1 + feature2)+1\n",
    "plt.xlim(-max_value, max_value)\n",
    "plt.ylim(-max_value, max_value)\n",
    "plt.gca().set_aspect('equal', adjustable='box')\n",
    "\n",
    "plt.show()"
   ]
  },
  {
   "cell_type": "code",
   "execution_count": 10,
   "metadata": {},
   "outputs": [
    {
     "name": "stdout",
     "output_type": "stream",
     "text": [
      "eigen value of PC1: 106.40117345669768\n",
      "eigen value of PC2: 4.0654932099689916\n",
      "\n",
      "singular value of PC1: 10.315094447298952\n",
      "singular value of PC2: 2.0163068243620543\n",
      "\n",
      "variation for PC1: 21.280234691339537\n",
      "variation for PC2: 0.8130986419937983\n",
      "\n",
      "PC1 accounts for 96.319710% of the total variation around PCs \n",
      "PC2 accounts for 3.680290% of the total variation around PCs \n"
     ]
    }
   ],
   "source": [
    "e1 = sum_of_square_distance(-a, 1, b, feature1, feature2)\n",
    "e2 = sum_of_square_distance(1/a, 1, b, feature1, feature2)\n",
    "print(\"eigen value of PC1:\" , e1)\n",
    "print(\"eigen value of PC2:\" , e2)\n",
    "print(\"\")\n",
    "print(\"singular value of PC1:\" , e1** 0.5)\n",
    "print(\"singular value of PC2:\" , e2** 0.5)\n",
    "variation_pc1 = e1 / (len(feature1)-1)\n",
    "variation_pc2 = e2 / (len(feature1)-1)\n",
    "total_variation = variation_pc1 + variation_pc2\n",
    "print(\"\")\n",
    "print(\"variation for PC1:\", variation_pc1)\n",
    "print(\"variation for PC2:\", variation_pc2)\n",
    "print(\"\")\n",
    "print(\"PC1 accounts for {:f}% of the total variation around PCs \".format(variation_pc1/ total_variation * 100))\n",
    "print(\"PC2 accounts for {:f}% of the total variation around PCs \".format(variation_pc2/ total_variation * 100))"
   ]
  },
  {
   "cell_type": "markdown",
   "metadata": {},
   "source": [
    "# PCA by SVD\n",
    "\n",
    "We can use SVD to find the eigenvector and eigenvalue\n",
    "\n",
    "```\n",
    "   A   =    U  *  S   * VT\n",
    "(m, n) = (m, m) (m, n) (n,n)\n",
    "```\n",
    "or\n",
    "```\n",
    "   A   =    U  *  S   * VT\n",
    "(m, n) = (m, r) (r, r) (r,n)\n",
    "\n",
    "```\n",
    "s is singular value <br>\n",
    "v is eigenvector\n",
    "\n",
    "![](https://miro.medium.com/max/440/0*8Eigag8mZn9gTFp2)"
   ]
  },
  {
   "cell_type": "code",
   "execution_count": 11,
   "metadata": {},
   "outputs": [
    {
     "name": "stdout",
     "output_type": "stream",
     "text": [
      "[[ 4.16666667  2.36666667]\n",
      " [ 5.16666667  0.36666667]\n",
      " [ 2.16666667  1.36666667]\n",
      " [-2.83333333 -0.63333333]\n",
      " [-3.83333333 -0.83333333]\n",
      " [-4.83333333 -2.63333333]]\n"
     ]
    }
   ],
   "source": [
    "matrix = np.array([feature1,feature2])\n",
    "matrix = np.transpose(matrix)\n",
    "print(matrix)"
   ]
  },
  {
   "cell_type": "code",
   "execution_count": 12,
   "metadata": {},
   "outputs": [
    {
     "name": "stdout",
     "output_type": "stream",
     "text": [
      "[[-0.457541    0.41108679]\n",
      " [-0.4836037  -0.69242571]\n",
      " [-0.24235653  0.27743163]\n",
      " [ 0.27929875  0.17736175]\n",
      " [ 0.37710744  0.25097498]\n",
      " [ 0.52709504 -0.42442944]]\n",
      "[10.31600995  2.01161762]\n",
      "[[-0.94171069 -0.33642381]\n",
      " [-0.33642381  0.94171069]]\n"
     ]
    }
   ],
   "source": [
    "u, s, vt = np.linalg.svd(matrix, full_matrices=False)\n",
    "print(u)\n",
    "print(s)\n",
    "print(vt)"
   ]
  },
  {
   "cell_type": "code",
   "execution_count": 13,
   "metadata": {},
   "outputs": [
    {
     "name": "stdout",
     "output_type": "stream",
     "text": [
      "(6, 2) (6, 2) (2,) (2, 2)\n",
      "singular value: 10.316009946380492 2.011617620932341\n",
      "eigen value: 106.42006121382123 4.046605452845491\n",
      "eigenvector: [-0.94171069 -0.33642381] [-0.33642381  0.94171069]\n"
     ]
    }
   ],
   "source": [
    "v = np.transpose(vt)\n",
    "print(matrix.shape, u.shape, s.shape, vt.shape)\n",
    "print(\"singular value:\", s[0], s[1])\n",
    "print(\"eigen value:\", s[0]**2, s[1]**2)\n",
    "print(\"eigenvector:\", v[0], v[1])"
   ]
  },
  {
   "cell_type": "code",
   "execution_count": 14,
   "metadata": {},
   "outputs": [
    {
     "data": {
      "image/png": "[encoded data removed]",
      "text/plain": [
       "<Figure size 432x288 with 1 Axes>"
      ]
     },
     "metadata": {
      "needs_background": "light"
     },
     "output_type": "display_data"
    },
    {
     "name": "stdout",
     "output_type": "stream",
     "text": [
      "eigen value of PC1: 106.42006121382123\n",
      "eigen value of PC2: 4.046605452845491\n",
      "\n",
      "variation for PC1: 21.284012242764245\n",
      "variation for PC2: 0.8093210905690983\n",
      "\n",
      "PC1 accounts for 96.336809% of the total variation around PCs \n",
      "PC2 accounts for 3.663191% of the total variation around PCs \n"
     ]
    }
   ],
   "source": [
    "plt.scatter(feature1, feature2)\n",
    "plt.axhline(color='black', lw=0.5)\n",
    "plt.axvline(color='black', lw=0.5)\n",
    "\n",
    "PC1 = [0 + v[0][1]/v[0][0] * xi for xi in feature1]\n",
    "PC2 = [0 + v[1][1]/v[1][0] * xi for xi in feature1]\n",
    "\n",
    "plt.plot(feature1, PC1)\n",
    "plt.plot(feature1, PC2)\n",
    "\n",
    "max_value = max(feature1 + feature2)+1\n",
    "plt.xlim(-max_value, max_value)\n",
    "plt.ylim(-max_value, max_value)\n",
    "plt.gca().set_aspect('equal', adjustable='box')\n",
    "plt.show()\n",
    "\n",
    "print(\"eigen value of PC1:\" , s[0]**2)\n",
    "print(\"eigen value of PC2:\" , s[1]**2)\n",
    "print(\"\")\n",
    "variation_pc1 = s[0]**2/(len(feature1)-1)\n",
    "variation_pc2 = s[1]**2/(len(feature1)-1)\n",
    "print(\"variation for PC1:\", variation_pc1)\n",
    "print(\"variation for PC2:\", variation_pc2)\n",
    "print(\"\")\n",
    "total_variation = variation_pc1 + variation_pc2\n",
    "print(\"PC1 accounts for {:f}% of the total variation around PCs \".format(variation_pc1/ total_variation * 100))\n",
    "print(\"PC2 accounts for {:f}% of the total variation around PCs \".format(variation_pc2/ total_variation * 100))"
   ]
  },
  {
   "cell_type": "markdown",
   "metadata": {},
   "source": [
    "To reduce the dimation of sample data ( from 2 dim -> 1 dim) <br>\n",
    "We can use the projection on PC1 to represent our data "
   ]
  },
  {
   "cell_type": "code",
   "execution_count": 15,
   "metadata": {},
   "outputs": [],
   "source": [
    "def get_project(v1, v2):\n",
    "    v2_norm = np.sqrt(sum(v2**2))\n",
    "    proj_of_v1_on_v2 = (np.dot(v1, v2)/v2_norm**2)*v2    \n",
    "    return proj_of_v1_on_v2\n",
    "\n",
    "def get_distance(v):\n",
    "    return np.sqrt(sum(v**2))\n",
    "\n",
    "def get_direction(v1, v2):\n",
    "    bias = np.dot(np.array([1]*len(v2)), v2)\n",
    "    if np.dot(v1, v2) >= 0:\n",
    "        return 1*bias\n",
    "    else:\n",
    "        return -1*bias"
   ]
  },
  {
   "cell_type": "code",
   "execution_count": 16,
   "metadata": {},
   "outputs": [
    {
     "name": "stdout",
     "output_type": "stream",
     "text": [
      "[6.032791690705604, 6.376434859969306, 3.1955309820348154, -3.6826233526278216, -4.972255244754613, -6.9498789353272885]\n"
     ]
    },
    {
     "data": {
      "image/png": "[encoded data removed]",
      "text/plain": [
       "<Figure size 432x288 with 1 Axes>"
      ]
     },
     "metadata": {
      "needs_background": "light"
     },
     "output_type": "display_data"
    }
   ],
   "source": [
    "PC1_proj = [get_project(np.array([x, y]), v[0]) for x, y in zip(feature1, feature2)]\n",
    "PC1_direct = [get_direction(np.array([x, y]), v[0]) for x, y in zip(feature1, feature2)]\n",
    "PC1_D_X = [d*get_distance(v) for v,d in zip(PC1_proj, PC1_direct)]\n",
    "print(PC1_D_X)\n",
    "\n",
    "plt.axhline(color='black', lw=0.5)\n",
    "plt.scatter(PC1_D_X, [0]*len(PC1_proj))\n",
    "plt.show()"
   ]
  },
  {
   "cell_type": "markdown",
   "metadata": {},
   "source": [
    "# What if we have more dimations"
   ]
  },
  {
   "cell_type": "code",
   "execution_count": 17,
   "metadata": {},
   "outputs": [],
   "source": [
    "f1 = [10, 11, 8, 3, 2, 1]\n",
    "f2 = [6, 4, 5, 3, 2.8, 1]\n",
    "f3 = [8, 2, 9, 1.5, 5, 5]\n",
    "f4 = [7, 6, 5, 4, 8, 9.9]\n",
    "matrix = np.array([f1,f2,f3,f4])"
   ]
  },
  {
   "cell_type": "code",
   "execution_count": 18,
   "metadata": {},
   "outputs": [
    {
     "name": "stdout",
     "output_type": "stream",
     "text": [
      "[[ 4.16666667  2.36666667  2.91666667  0.35      ]\n",
      " [ 5.16666667  0.36666667 -3.08333333 -0.65      ]\n",
      " [ 2.16666667  1.36666667  3.91666667 -1.65      ]\n",
      " [-2.83333333 -0.63333333 -3.58333333 -2.65      ]\n",
      " [-3.83333333 -0.83333333 -0.08333333  1.35      ]\n",
      " [-4.83333333 -2.63333333 -0.08333333  3.25      ]]\n"
     ]
    }
   ],
   "source": [
    "new_matrix = []\n",
    "for m in matrix:\n",
    "    av_m = sum(m)/len(m)\n",
    "    new_row = []\n",
    "    for i in m:\n",
    "        new_row.append(i - av_m)\n",
    "        \n",
    "    new_matrix.append(new_row)\n",
    "    \n",
    "new_matrix = np.transpose(new_matrix)\n",
    "matrix = np.array(new_matrix)\n",
    "print(matrix)"
   ]
  },
  {
   "cell_type": "code",
   "execution_count": 19,
   "metadata": {},
   "outputs": [
    {
     "name": "stdout",
     "output_type": "stream",
     "text": [
      "[[-0.47804775 -0.30996346  0.12886187  0.5708065 ]\n",
      " [-0.37724545  0.59899184  0.47732695 -0.22423541]\n",
      " [-0.34213505 -0.3886833  -0.48026426 -0.54712841]\n",
      " [ 0.28660816  0.53973035 -0.57495661  0.13195699]\n",
      " [ 0.36834981 -0.16565633  0.00828715  0.42467387]\n",
      " [ 0.54247028 -0.27441911  0.44074489 -0.35607355]]\n",
      "[10.7650126   6.78720558  4.01566014  1.12819228]\n",
      "[[-0.88511401 -0.33945797 -0.24840432  0.19908984]\n",
      " [ 0.20527868 -0.07754232 -0.90915993 -0.35394361]\n",
      " [ 0.3559939  -0.24398558 -0.23759583  0.87022273]\n",
      " [-0.21840832  0.90511133 -0.23509942  0.27892571]]\n"
     ]
    }
   ],
   "source": [
    "u, s, vt = np.linalg.svd(matrix, full_matrices=False)\n",
    "v = np.transpose(vt)\n",
    "print(u)\n",
    "print(s)\n",
    "print(vt)"
   ]
  },
  {
   "cell_type": "code",
   "execution_count": 20,
   "metadata": {},
   "outputs": [
    {
     "name": "stdout",
     "output_type": "stream",
     "text": [
      "[64.61416017 25.68506248  8.9910936   0.70968376]\n",
      "[-0.88511401  0.20527868  0.3559939  -0.21840832] [-0.33945797 -0.07754232 -0.24398558  0.90511133]\n",
      "[[-0.88511401  0.20527868  0.3559939  -0.21840832]\n",
      " [-0.33945797 -0.07754232 -0.24398558  0.90511133]]\n"
     ]
    }
   ],
   "source": [
    "variations = s**2/(len(f1)-1)\n",
    "variations = variations/sum(variations) * 100\n",
    "print(variations)\n",
    "\n",
    "v = np.transpose(vt)\n",
    "PC1 = v[0]\n",
    "PC2 = v[1]\n",
    "print(PC1, PC2)\n",
    "print(v[:2])"
   ]
  },
  {
   "cell_type": "code",
   "execution_count": 21,
   "metadata": {},
   "outputs": [
    {
     "name": "stdout",
     "output_type": "stream",
     "text": [
      "[1.214789228785195, 2.957160479158687, -0.06370549013609647, -0.9114949666494053, -1.5710895441447368, -1.6256597070136425]\n"
     ]
    }
   ],
   "source": [
    "PC1_proj = [get_project(np.array([i for i in w]), PC1) for w in matrix]\n",
    "PC1_direct = [get_direction(np.array([i for i in w]), PC1) for w in matrix]\n",
    "PC1_distance =  [d*get_distance(v) for v,d in zip(PC1_proj, PC1_direct)]\n",
    "print(PC1_distance)"
   ]
  },
  {
   "cell_type": "code",
   "execution_count": 22,
   "metadata": {},
   "outputs": [
    {
     "name": "stdout",
     "output_type": "stream",
     "text": [
      "[-0.48648361880748686, -0.3950760146259753, -0.8032974322392933, -0.12532318556130675, 0.6367052243285384, 1.173475026905524]\n"
     ]
    }
   ],
   "source": [
    "PC2_proj = [get_project(np.array([i for i in w]), PC2) for w in matrix]\n",
    "PC2_direct = [get_direction(np.array([i for i in w]), PC2) for w in matrix]\n",
    "PC2_distance =  [d*get_distance(v) for v,d in zip(PC2_proj, PC2_direct)]\n",
    "print(PC2_distance)"
   ]
  },
  {
   "cell_type": "code",
   "execution_count": 23,
   "metadata": {},
   "outputs": [
    {
     "data": {
      "image/png": "[encoded data removed]",
      "text/plain": [
       "<Figure size 432x288 with 1 Axes>"
      ]
     },
     "metadata": {
      "needs_background": "light"
     },
     "output_type": "display_data"
    }
   ],
   "source": [
    "plt.axhline(color='black', lw=0.5)\n",
    "plt.axvline(color='black', lw=0.5)\n",
    "plt.scatter(PC1_distance, PC2_distance)\n",
    "plt.show()"
   ]
  },
  {
   "cell_type": "markdown",
   "metadata": {},
   "source": [
    "# Complete code !!"
   ]
  },
  {
   "cell_type": "code",
   "execution_count": 24,
   "metadata": {},
   "outputs": [],
   "source": [
    "import matplotlib.pyplot as plt\n",
    "import numpy as np\n",
    "\n",
    "class PCA():\n",
    "    def __init__(self, matrix):\n",
    "        self.matrix = self.__shift(matrix)\n",
    "        \n",
    "        u, s, vt = np.linalg.svd(self.matrix, full_matrices=False)\n",
    "        variations = s**2/(len(f1)-1)\n",
    "        v = np.transpose(vt)\n",
    "        \n",
    "        self.singular_values = s\n",
    "        self.eigenvectors = v[:len(s)]\n",
    "        self.eigen_values = s**2\n",
    "        self.PCs = variations/sum(variations)\n",
    "        \n",
    "    def __shift(self, matrix):\n",
    "        new_matrix = []\n",
    "        for m in matrix:\n",
    "            av_m = sum(m)/len(m)\n",
    "            new_row = []\n",
    "            for i in m:\n",
    "                new_row.append(i - av_m)\n",
    "\n",
    "            new_matrix.append(new_row)\n",
    "        new_matrix = np.transpose(new_matrix)\n",
    "        return new_matrix\n",
    "\n",
    "    def __get_project(self, v1, v2):\n",
    "        v2_norm = np.sqrt(sum(v2**2))\n",
    "        proj_of_v1_on_v2 = (np.dot(v1, v2)/v2_norm**2)*v2    \n",
    "        return proj_of_v1_on_v2\n",
    "\n",
    "    def __get_distance(self, v):\n",
    "        return np.sqrt(sum(v**2))\n",
    "\n",
    "    def __get_direction(self, v1, v2):\n",
    "        bias = np.dot(np.array([1]*len(v2)), v2)\n",
    "        if np.dot(v1, v2) >= 0:\n",
    "            return 1*bias\n",
    "        else:\n",
    "            return -1*bias\n",
    "        \n",
    "    def show_PC_variations(self):\n",
    "        x = np.arange(len(self.PCs))\n",
    "        plt.bar(x, (self.PCs * 100).tolist())\n",
    "        plt.xticks(x, [\"PC\"+str(i) for i in x])\n",
    "        plt.xlabel('PCA')\n",
    "        plt.ylabel('principal components(%)')\n",
    "        plt.show()\n",
    "\n",
    "    def show_2_PCA(self, pc1, pc2):\n",
    "        PC1_proj = [self.__get_project(np.array([i for i in w]), self.eigenvectors[pc1]) for w in self.matrix]\n",
    "        PC1_direct = [self.__get_direction(np.array([i for i in w]), self.eigenvectors[pc1]) for w in self.matrix]\n",
    "        PC1_distance =  [d*self.__get_distance(v) for v,d in zip(PC1_proj, PC1_direct)]\n",
    "        \n",
    "        PC2_proj = [self.__get_project(np.array([i for i in w]), self.eigenvectors[pc2]) for w in self.matrix]\n",
    "        PC2_direct = [self.__get_direction(np.array([i for i in w]), self.eigenvectors[pc2]) for w in self.matrix]\n",
    "        PC2_distance =  [d*self.__get_distance(v) for v,d in zip(PC2_proj, PC2_direct)]\n",
    "        \n",
    "        plt.axhline(color='black', lw=0.5)\n",
    "        plt.axvline(color='black', lw=0.5)\n",
    "        plt.scatter(PC1_distance, PC2_distance)\n",
    "        for n in range(len(PC1_distance)):\n",
    "            plt.annotate(str(n), (PC1_distance[n], PC2_distance[n]))\n",
    "            \n",
    "        plt.xlabel(\"PC\" + str(pc1) + \" (\" + str(round(self.PCs[pc1]*100, 2)) +\"%)\")\n",
    "        plt.ylabel(\"PC\" + str(pc2) + \" (\" + str(round(self.PCs[pc2]*100, 2)) +\"%)\")\n",
    "        plt.show()\n",
    "        \n",
    "    def show_1_PCA(self, pc1):\n",
    "        PC1_proj = [self.__get_project(np.array([i for i in w]), self.eigenvectors[pc1]) for w in self.matrix]\n",
    "        PC1_direct = [self.__get_direction(np.array([i for i in w]), self.eigenvectors[pc1]) for w in self.matrix]\n",
    "        PC1_distance =  [d*self.__get_distance(v) for v,d in zip(PC1_proj, PC1_direct)]\n",
    "        \n",
    "        plt.axhline(color='black', lw=0.5)\n",
    "        plt.scatter(PC1_distance, [0]*len(PC1_distance))\n",
    "        for n in range(len(PC1_distance)):\n",
    "            plt.annotate(str(n), (PC1_distance[n], 0))\n",
    "        plt.xlabel(\"PC\" + str(pc1) + \" (\" + str(round(self.PCs[pc1]*100, 2)) +\"%)\")\n",
    "        plt.show()"
   ]
  },
  {
   "cell_type": "code",
   "execution_count": 25,
   "metadata": {},
   "outputs": [],
   "source": [
    "#sample 0 ~ 5\n",
    "f0 = [10, 11, 8, 3, 2, 1]\n",
    "f1 = [6, 4, 5, 3, 0.7, 1]\n",
    "f2 = [8, 2, 9, 1.5, 5, 5]\n",
    "f3 = [7, 6, 5, 4, 8, 8.5]\n",
    "matrix = np.array([f0,f1,f2,f3])\n",
    "\n",
    "pca = PCA(matrix)"
   ]
  },
  {
   "cell_type": "code",
   "execution_count": 26,
   "metadata": {},
   "outputs": [
    {
     "data": {
      "text/plain": [
       "array([[-0.86889937,  0.24093226,  0.33542894, -0.27286069],\n",
       "       [-0.40900889, -0.02568878, -0.35886838,  0.83860915],\n",
       "       [-0.25039745, -0.92977389, -0.15847275, -0.21842166],\n",
       "       [ 0.12258356, -0.27715023,  0.85649711,  0.41782021]])"
      ]
     },
     "execution_count": 26,
     "metadata": {},
     "output_type": "execute_result"
    }
   ],
   "source": [
    "pca.eigenvectors"
   ]
  },
  {
   "cell_type": "code",
   "execution_count": 27,
   "metadata": {},
   "outputs": [
    {
     "data": {
      "text/plain": [
       "array([120.08515057,  44.27951779,  13.30470227,   1.38896271])"
      ]
     },
     "execution_count": 27,
     "metadata": {},
     "output_type": "execute_result"
    }
   ],
   "source": [
    "pca.eigen_values"
   ]
  },
  {
   "cell_type": "code",
   "execution_count": 28,
   "metadata": {},
   "outputs": [
    {
     "data": {
      "text/plain": [
       "array([0.67064821, 0.24729102, 0.07430373, 0.00775704])"
      ]
     },
     "execution_count": 28,
     "metadata": {},
     "output_type": "execute_result"
    }
   ],
   "source": [
    "pca.PCs"
   ]
  },
  {
   "cell_type": "code",
   "execution_count": 29,
   "metadata": {},
   "outputs": [
    {
     "data": {
      "image/png": "[encoded data removed]",
      "text/plain": [
       "<Figure size 432x288 with 1 Axes>"
      ]
     },
     "metadata": {
      "needs_background": "light"
     },
     "output_type": "display_data"
    }
   ],
   "source": [
    "pca.show_PC_variations()"
   ]
  },
  {
   "cell_type": "code",
   "execution_count": 30,
   "metadata": {},
   "outputs": [
    {
     "data": {
      "image/png": "[encoded data removed]",
      "text/plain": [
       "<Figure size 432x288 with 1 Axes>"
      ]
     },
     "metadata": {
      "needs_background": "light"
     },
     "output_type": "display_data"
    }
   ],
   "source": [
    "pca.show_2_PCA(0,1)"
   ]
  },
  {
   "cell_type": "code",
   "execution_count": 31,
   "metadata": {},
   "outputs": [
    {
     "data": {
      "image/png": "[encoded data removed]",
      "text/plain": [
       "<Figure size 432x288 with 1 Axes>"
      ]
     },
     "metadata": {
      "needs_background": "light"
     },
     "output_type": "display_data"
    }
   ],
   "source": [
    "pca.show_1_PCA(3)"
   ]
  },
  {
   "cell_type": "markdown",
   "metadata": {},
   "source": [
    "# Compare answer with sklearn"
   ]
  },
  {
   "cell_type": "code",
   "execution_count": 32,
   "metadata": {},
   "outputs": [
    {
     "name": "stdout",
     "output_type": "stream",
     "text": [
      "[10.95833703  6.65428567  3.64756114  1.17854262]\n",
      "[0.67064821 0.24729102 0.07430373 0.00775704]\n"
     ]
    },
    {
     "data": {
      "image/png": "[encoded data removed]",
      "text/plain": [
       "<Figure size 432x288 with 1 Axes>"
      ]
     },
     "metadata": {
      "needs_background": "light"
     },
     "output_type": "display_data"
    }
   ],
   "source": [
    "# feature1 = [10, 11, 8, 3, 2, 1]\n",
    "# feature2 = [6, 4, 5, 3, 2.8, 1]\n",
    "# matrix = np.array([feature1,feature2])\n",
    "f1 = [10, 11, 8, 3, 2, 1]\n",
    "f2 = [6, 4, 5, 3, 0.7, 1]\n",
    "f3 = [8, 2, 9, 1.5, 5, 5]\n",
    "f4 = [7, 6, 5, 4, 8, 8.5]\n",
    "matrix = np.array([f1,f2,f3,f4])\n",
    "pca = PCA(matrix)\n",
    "print(pca.singular_values)\n",
    "print(pca.PCs)\n",
    "pca.show_2_PCA(0,1)"
   ]
  },
  {
   "cell_type": "code",
   "execution_count": 33,
   "metadata": {},
   "outputs": [
    {
     "name": "stdout",
     "output_type": "stream",
     "text": [
      "[10.95833703  6.65428567  3.64756114  1.17854262]\n",
      "[0.67064821 0.24729102 0.07430373 0.00775704]\n"
     ]
    }
   ],
   "source": [
    "from sklearn.decomposition import PCA as SK_PCA\n",
    "\n",
    "# feature1 = [10, 11, 8, 3, 2, 1]\n",
    "# feature2 = [6, 4, 5, 3, 2.8, 1]\n",
    "# matrix = np.array([feature1,feature2])\n",
    "f1 = [10, 11, 8, 3, 2, 1]\n",
    "f2 = [6, 4, 5, 3, 0.7, 1]\n",
    "f3 = [8, 2, 9, 1.5, 5, 5]\n",
    "f4 = [7, 6, 5, 4, 8, 8.5]\n",
    "matrix = np.array([f1,f2,f3,f4])\n",
    "matrix = np.transpose(matrix)\n",
    "pca = SK_PCA(n_components=4)\n",
    "pca.fit(matrix)\n",
    "print(pca.singular_values_)\n",
    "print(pca.explained_variance_ratio_)"
   ]
  },
  {
   "cell_type": "code",
   "execution_count": 34,
   "metadata": {},
   "outputs": [
    {
     "name": "stdout",
     "output_type": "stream",
     "text": [
      "[10.31600995  2.01161762]\n",
      "[0.96336809 0.03663191]\n"
     ]
    },
    {
     "data": {
      "image/png": "[encoded data removed]",
      "text/plain": [
       "<Figure size 432x288 with 1 Axes>"
      ]
     },
     "metadata": {
      "needs_background": "light"
     },
     "output_type": "display_data"
    }
   ],
   "source": [
    "feature1 = [10, 11, 8, 3, 2, 1]\n",
    "feature2 = [6, 4, 5, 3, 2.8, 1]\n",
    "matrix = np.array([feature1,feature2])\n",
    "# f1 = [10, 11, 8, 3, 2, 1]\n",
    "# f2 = [6, 4, 5, 3, 0.7, 1]\n",
    "# f3 = [8, 2, 9, 1.5, 5, 5]\n",
    "# f4 = [7, 6, 5, 4, 8, 8.5]\n",
    "# matrix = np.array([f1,f2,f3,f4])\n",
    "pca = PCA(matrix)\n",
    "print(pca.singular_values)\n",
    "print(pca.PCs)\n",
    "pca.show_2_PCA(0,1)"
   ]
  },
  {
   "cell_type": "code",
   "execution_count": null,
   "metadata": {},
   "outputs": [],
   "source": []
  }
 ],
 "metadata": {
  "kernelspec": {
   "display_name": "Python 3",
   "language": "python",
   "name": "python3"
  },
  "language_info": {
   "codemirror_mode": {
    "name": "ipython",
    "version": 3
   },
   "file_extension": ".py",
   "mimetype": "text/x-python",
   "name": "python",
   "nbconvert_exporter": "python",
   "pygments_lexer": "ipython3",
   "version": "3.7.6"
  }
 },
 "nbformat": 4,
 "nbformat_minor": 4
}
